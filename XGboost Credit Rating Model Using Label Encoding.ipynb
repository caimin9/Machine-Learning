{
 "cells": [
  {
   "cell_type": "code",
   "execution_count": 40,
   "id": "8fc84ce4",
   "metadata": {},
   "outputs": [],
   "source": [
    "import pandas as pd\n",
    "from sklearn.model_selection import train_test_split\n",
    "from sklearn.metrics import accuracy_score, r2_score,auc\n",
    "import xgboost as xgb\n",
    "import matplotlib.pyplot as plt\n",
    "import seaborn as sns\n"
   ]
  },
  {
   "cell_type": "code",
   "execution_count": 41,
   "id": "c176d923",
   "metadata": {},
   "outputs": [],
   "source": [
    "df = pd.read_excel(\"Applicant-details.xlsx\")"
   ]
  },
  {
   "cell_type": "code",
   "execution_count": 42,
   "id": "41f47cd2",
   "metadata": {},
   "outputs": [
    {
     "data": {
      "text/html": [
       "<div>\n",
       "<style scoped>\n",
       "    .dataframe tbody tr th:only-of-type {\n",
       "        vertical-align: middle;\n",
       "    }\n",
       "\n",
       "    .dataframe tbody tr th {\n",
       "        vertical-align: top;\n",
       "    }\n",
       "\n",
       "    .dataframe thead th {\n",
       "        text-align: right;\n",
       "    }\n",
       "</style>\n",
       "<table border=\"1\" class=\"dataframe\">\n",
       "  <thead>\n",
       "    <tr style=\"text-align: right;\">\n",
       "      <th></th>\n",
       "      <th>Applicant_ID</th>\n",
       "      <th>Annual_Income</th>\n",
       "      <th>Applicant_Age</th>\n",
       "      <th>Work_Experience</th>\n",
       "      <th>Marital_Status</th>\n",
       "      <th>House_Ownership</th>\n",
       "      <th>Vehicle_Ownership(car)</th>\n",
       "      <th>Occupation</th>\n",
       "      <th>Residence_City</th>\n",
       "      <th>Residence_State</th>\n",
       "      <th>Years_in_Current_Employment</th>\n",
       "      <th>Years_in_Current_Residence</th>\n",
       "      <th>Loan_Default_Risk</th>\n",
       "    </tr>\n",
       "  </thead>\n",
       "  <tbody>\n",
       "    <tr>\n",
       "      <th>35705</th>\n",
       "      <td>70669</td>\n",
       "      <td>1609239</td>\n",
       "      <td>47</td>\n",
       "      <td>3</td>\n",
       "      <td>single</td>\n",
       "      <td>rented</td>\n",
       "      <td>no</td>\n",
       "      <td>Flight_attendant</td>\n",
       "      <td>Tumkur</td>\n",
       "      <td>Karnataka</td>\n",
       "      <td>3</td>\n",
       "      <td>14</td>\n",
       "      <td>0</td>\n",
       "    </tr>\n",
       "    <tr>\n",
       "      <th>31930</th>\n",
       "      <td>52103</td>\n",
       "      <td>8442438</td>\n",
       "      <td>23</td>\n",
       "      <td>17</td>\n",
       "      <td>single</td>\n",
       "      <td>norent_noown</td>\n",
       "      <td>no</td>\n",
       "      <td>Mechanical_engineer</td>\n",
       "      <td>Hindupur</td>\n",
       "      <td>Andhra_Pradesh</td>\n",
       "      <td>3</td>\n",
       "      <td>14</td>\n",
       "      <td>0</td>\n",
       "    </tr>\n",
       "    <tr>\n",
       "      <th>52884</th>\n",
       "      <td>45086</td>\n",
       "      <td>8217987</td>\n",
       "      <td>56</td>\n",
       "      <td>13</td>\n",
       "      <td>single</td>\n",
       "      <td>rented</td>\n",
       "      <td>yes</td>\n",
       "      <td>Graphic_Designer</td>\n",
       "      <td>Kolhapur</td>\n",
       "      <td>Maharashtra</td>\n",
       "      <td>8</td>\n",
       "      <td>14</td>\n",
       "      <td>0</td>\n",
       "    </tr>\n",
       "    <tr>\n",
       "      <th>30733</th>\n",
       "      <td>99115</td>\n",
       "      <td>242890</td>\n",
       "      <td>78</td>\n",
       "      <td>12</td>\n",
       "      <td>single</td>\n",
       "      <td>rented</td>\n",
       "      <td>no</td>\n",
       "      <td>Scientist</td>\n",
       "      <td>Karnal</td>\n",
       "      <td>Haryana</td>\n",
       "      <td>3</td>\n",
       "      <td>10</td>\n",
       "      <td>0</td>\n",
       "    </tr>\n",
       "    <tr>\n",
       "      <th>63889</th>\n",
       "      <td>95485</td>\n",
       "      <td>1677705</td>\n",
       "      <td>42</td>\n",
       "      <td>14</td>\n",
       "      <td>single</td>\n",
       "      <td>rented</td>\n",
       "      <td>no</td>\n",
       "      <td>Industrial_Engineer</td>\n",
       "      <td>Bikaner</td>\n",
       "      <td>Rajasthan</td>\n",
       "      <td>13</td>\n",
       "      <td>14</td>\n",
       "      <td>0</td>\n",
       "    </tr>\n",
       "    <tr>\n",
       "      <th>...</th>\n",
       "      <td>...</td>\n",
       "      <td>...</td>\n",
       "      <td>...</td>\n",
       "      <td>...</td>\n",
       "      <td>...</td>\n",
       "      <td>...</td>\n",
       "      <td>...</td>\n",
       "      <td>...</td>\n",
       "      <td>...</td>\n",
       "      <td>...</td>\n",
       "      <td>...</td>\n",
       "      <td>...</td>\n",
       "      <td>...</td>\n",
       "    </tr>\n",
       "    <tr>\n",
       "      <th>44875</th>\n",
       "      <td>2966</td>\n",
       "      <td>8701440</td>\n",
       "      <td>27</td>\n",
       "      <td>15</td>\n",
       "      <td>married</td>\n",
       "      <td>rented</td>\n",
       "      <td>no</td>\n",
       "      <td>Computer_hardware_engineer</td>\n",
       "      <td>Bharatpur</td>\n",
       "      <td>Rajasthan</td>\n",
       "      <td>5</td>\n",
       "      <td>13</td>\n",
       "      <td>0</td>\n",
       "    </tr>\n",
       "    <tr>\n",
       "      <th>35563</th>\n",
       "      <td>26892</td>\n",
       "      <td>2997990</td>\n",
       "      <td>43</td>\n",
       "      <td>7</td>\n",
       "      <td>single</td>\n",
       "      <td>rented</td>\n",
       "      <td>yes</td>\n",
       "      <td>Psychologist</td>\n",
       "      <td>Raiganj</td>\n",
       "      <td>West_Bengal</td>\n",
       "      <td>3</td>\n",
       "      <td>11</td>\n",
       "      <td>0</td>\n",
       "    </tr>\n",
       "    <tr>\n",
       "      <th>47171</th>\n",
       "      <td>19917</td>\n",
       "      <td>8171627</td>\n",
       "      <td>67</td>\n",
       "      <td>15</td>\n",
       "      <td>single</td>\n",
       "      <td>rented</td>\n",
       "      <td>no</td>\n",
       "      <td>Biomedical_Engineer</td>\n",
       "      <td>Bidhannagar</td>\n",
       "      <td>West_Bengal</td>\n",
       "      <td>9</td>\n",
       "      <td>12</td>\n",
       "      <td>0</td>\n",
       "    </tr>\n",
       "    <tr>\n",
       "      <th>96439</th>\n",
       "      <td>10517</td>\n",
       "      <td>9663578</td>\n",
       "      <td>71</td>\n",
       "      <td>16</td>\n",
       "      <td>single</td>\n",
       "      <td>rented</td>\n",
       "      <td>no</td>\n",
       "      <td>Scientist</td>\n",
       "      <td>Madurai</td>\n",
       "      <td>Tamil_Nadu</td>\n",
       "      <td>11</td>\n",
       "      <td>14</td>\n",
       "      <td>0</td>\n",
       "    </tr>\n",
       "    <tr>\n",
       "      <th>90104</th>\n",
       "      <td>28364</td>\n",
       "      <td>3797942</td>\n",
       "      <td>78</td>\n",
       "      <td>10</td>\n",
       "      <td>single</td>\n",
       "      <td>rented</td>\n",
       "      <td>no</td>\n",
       "      <td>Scientist</td>\n",
       "      <td>Satara</td>\n",
       "      <td>Maharashtra</td>\n",
       "      <td>7</td>\n",
       "      <td>14</td>\n",
       "      <td>0</td>\n",
       "    </tr>\n",
       "  </tbody>\n",
       "</table>\n",
       "<p>100000 rows × 13 columns</p>\n",
       "</div>"
      ],
      "text/plain": [
       "       Applicant_ID  Annual_Income  Applicant_Age  Work_Experience  \\\n",
       "35705         70669        1609239             47                3   \n",
       "31930         52103        8442438             23               17   \n",
       "52884         45086        8217987             56               13   \n",
       "30733         99115         242890             78               12   \n",
       "63889         95485        1677705             42               14   \n",
       "...             ...            ...            ...              ...   \n",
       "44875          2966        8701440             27               15   \n",
       "35563         26892        2997990             43                7   \n",
       "47171         19917        8171627             67               15   \n",
       "96439         10517        9663578             71               16   \n",
       "90104         28364        3797942             78               10   \n",
       "\n",
       "      Marital_Status House_Ownership Vehicle_Ownership(car)  \\\n",
       "35705         single          rented                     no   \n",
       "31930         single    norent_noown                     no   \n",
       "52884         single          rented                    yes   \n",
       "30733         single          rented                     no   \n",
       "63889         single          rented                     no   \n",
       "...              ...             ...                    ...   \n",
       "44875        married          rented                     no   \n",
       "35563         single          rented                    yes   \n",
       "47171         single          rented                     no   \n",
       "96439         single          rented                     no   \n",
       "90104         single          rented                     no   \n",
       "\n",
       "                       Occupation Residence_City Residence_State  \\\n",
       "35705            Flight_attendant         Tumkur       Karnataka   \n",
       "31930         Mechanical_engineer       Hindupur  Andhra_Pradesh   \n",
       "52884            Graphic_Designer       Kolhapur     Maharashtra   \n",
       "30733                   Scientist         Karnal         Haryana   \n",
       "63889         Industrial_Engineer        Bikaner       Rajasthan   \n",
       "...                           ...            ...             ...   \n",
       "44875  Computer_hardware_engineer      Bharatpur       Rajasthan   \n",
       "35563                Psychologist        Raiganj     West_Bengal   \n",
       "47171         Biomedical_Engineer    Bidhannagar     West_Bengal   \n",
       "96439                   Scientist        Madurai      Tamil_Nadu   \n",
       "90104                   Scientist         Satara     Maharashtra   \n",
       "\n",
       "       Years_in_Current_Employment  Years_in_Current_Residence  \\\n",
       "35705                            3                          14   \n",
       "31930                            3                          14   \n",
       "52884                            8                          14   \n",
       "30733                            3                          10   \n",
       "63889                           13                          14   \n",
       "...                            ...                         ...   \n",
       "44875                            5                          13   \n",
       "35563                            3                          11   \n",
       "47171                            9                          12   \n",
       "96439                           11                          14   \n",
       "90104                            7                          14   \n",
       "\n",
       "       Loan_Default_Risk  \n",
       "35705                  0  \n",
       "31930                  0  \n",
       "52884                  0  \n",
       "30733                  0  \n",
       "63889                  0  \n",
       "...                  ...  \n",
       "44875                  0  \n",
       "35563                  0  \n",
       "47171                  0  \n",
       "96439                  0  \n",
       "90104                  0  \n",
       "\n",
       "[100000 rows x 13 columns]"
      ]
     },
     "execution_count": 42,
     "metadata": {},
     "output_type": "execute_result"
    }
   ],
   "source": [
    "df = df.sample(frac=1)\n",
    "df"
   ]
  },
  {
   "cell_type": "markdown",
   "id": "32f98411",
   "metadata": {},
   "source": [
    "## LABEL ENCODING"
   ]
  },
  {
   "cell_type": "code",
   "execution_count": 43,
   "id": "04bf9c1d",
   "metadata": {},
   "outputs": [],
   "source": [
    "from sklearn.preprocessing import LabelEncoder\n",
    "\n",
    "# Initialize LabelEncoder\n",
    "label_encoder = LabelEncoder()\n",
    "\n",
    "# Iterate over each column in the DataFrame\n",
    "for column in df.columns:\n",
    "    # Check if the column is of object type (categorical)\n",
    "    if df[column].dtype == 'object':\n",
    "        # Apply label encoding to the column\n",
    "        df[column] = label_encoder.fit_transform(df[column])\n",
    "        \n",
    "#This is the traget\n",
    "output = df['Loan_Default_Risk']\n",
    "df_new = df.drop('Applicant_ID',axis = 1)"
   ]
  },
  {
   "cell_type": "markdown",
   "id": "9913c962",
   "metadata": {},
   "source": [
    "##  Model Implementation"
   ]
  },
  {
   "cell_type": "code",
   "execution_count": 56,
   "id": "3a41ab06",
   "metadata": {},
   "outputs": [],
   "source": [
    "test_len = int(len(df_new) * 0.99)\n",
    "\n",
    "x_columns = df_new.columns.drop('Loan_Default_Risk')\n",
    "\n",
    "# Train data\n",
    "x_train = df_new[x_columns].iloc[:test_len]\n",
    "y_train = df_new['Loan_Default_Risk'].iloc[:test_len]\n",
    "\n",
    "# Test data\n",
    "x_test = df_new[x_columns].iloc[test_len:]\n",
    "y_test = df_new['Loan_Default_Risk'].iloc[test_len:]"
   ]
  },
  {
   "cell_type": "code",
   "execution_count": 57,
   "id": "7ea69b2f",
   "metadata": {},
   "outputs": [
    {
     "name": "stdout",
     "output_type": "stream",
     "text": [
      "Accuracy: 0.9130\n",
      "r2 Score: 0.2550\n"
     ]
    }
   ],
   "source": [
    "#Model implementation\n",
    "\n",
    "model = xgb.XGBClassifier()\n",
    "model.fit(x_train, y_train)\n",
    "y_pred = model.predict(x_test)\n",
    "\n",
    "# Evaluating with an appropriate metric for classification\n",
    "accuracy = accuracy_score(y_test, y_pred)\n",
    "r2 = r2_score(y_test, y_pred) \n",
    "print(f\"Accuracy: {accuracy:.4f}\")\n",
    "print(f\"r2 Score: {r2:.4f}\")"
   ]
  },
  {
   "cell_type": "markdown",
   "id": "100d1136",
   "metadata": {},
   "source": [
    "## Results at different data split lengths\n",
    "\n",
    "|          | 80%       | 90%       | 95%       | 99%       |\n",
    "|:-------- |:----------|:----------|:----------|:----------|\n",
    "| Accuracy | 0.9130    | 0.9138    | 0.9162    | 0.9130    |\n",
    "| R2 Score | 0.2046    | 0.2108    | 0.2307    | 0.2550    |"
   ]
  },
  {
   "cell_type": "markdown",
   "id": "73d09176",
   "metadata": {},
   "source": [
    "## Model Evaluation"
   ]
  },
  {
   "cell_type": "code",
   "execution_count": 58,
   "id": "0bae7a8e",
   "metadata": {},
   "outputs": [
    {
     "name": "stdout",
     "output_type": "stream",
     "text": [
      "Confusion Matrix:\n",
      "[[841  24]\n",
      " [ 63  72]]\n",
      "\n",
      "Classification Report:\n",
      "              precision    recall  f1-score   support\n",
      "\n",
      "           0       0.93      0.97      0.95       865\n",
      "           1       0.75      0.53      0.62       135\n",
      "\n",
      "    accuracy                           0.91      1000\n",
      "   macro avg       0.84      0.75      0.79      1000\n",
      "weighted avg       0.91      0.91      0.91      1000\n",
      "\n",
      "\n",
      "Class Distribution in Training Set:\n",
      "0    86138\n",
      "1    12862\n",
      "Name: Loan_Default_Risk, dtype: int64\n",
      "\n",
      "Class Distribution in Test Set:\n",
      "0    865\n",
      "1    135\n",
      "Name: Loan_Default_Risk, dtype: int64\n"
     ]
    }
   ],
   "source": [
    "from sklearn.metrics import confusion_matrix, classification_report\n",
    "\n",
    "#This will tell us the number of True positives, False negatives, False positives and True negatives\n",
    "print(\"Confusion Matrix:\")\n",
    "print(confusion_matrix(y_test, y_pred))\n",
    "\n",
    "print(\"\\nClassification Report:\")\n",
    "print(classification_report(y_test, y_pred))\n",
    "\n",
    "#Check balance of classes\n",
    "print(\"\\nClass Distribution in Training Set:\")\n",
    "print(pd.Series(y_train).value_counts())\n",
    "\n",
    "print(\"\\nClass Distribution in Test Set:\")\n",
    "print(pd.Series(y_test).value_counts())\n"
   ]
  },
  {
   "cell_type": "markdown",
   "id": "e4e16169",
   "metadata": {},
   "source": [
    "\n"
   ]
  },
  {
   "cell_type": "markdown",
   "id": "385faef7",
   "metadata": {},
   "source": [
    "## Plots"
   ]
  },
  {
   "cell_type": "markdown",
   "id": "43fef0bf",
   "metadata": {},
   "source": [
    "### Confusion Matrix"
   ]
  },
  {
   "cell_type": "code",
   "execution_count": 59,
   "id": "3bffc95a",
   "metadata": {},
   "outputs": [
    {
     "data": {
      "image/png": "[encoded data removed]",
      "text/plain": [
       "<Figure size 640x480 with 2 Axes>"
      ]
     },
     "metadata": {},
     "output_type": "display_data"
    }
   ],
   "source": [
    "conf_mat = confusion_matrix(y_test, y_pred)\n",
    "\n",
    "sns.heatmap(conf_mat, annot=True, fmt='d', cmap='Blues')\n",
    "plt.xlabel('Predicted Labels')\n",
    "plt.ylabel('True Labels')\n",
    "plt.title('Confusion Matrix')\n",
    "plt.show()"
   ]
  },
  {
   "cell_type": "markdown",
   "id": "ae2a25be",
   "metadata": {},
   "source": [
    "### ROC Curve & AUC Score"
   ]
  },
  {
   "cell_type": "code",
   "execution_count": 60,
   "id": "96b69aab",
   "metadata": {},
   "outputs": [
    {
     "data": {
      "image/png": "[encoded data removed]",
      "text/plain": [
       "<Figure size 640x480 with 1 Axes>"
      ]
     },
     "metadata": {},
     "output_type": "display_data"
    }
   ],
   "source": [
    "from sklearn.metrics import roc_curve, auc\n",
    "\n",
    "fpr, tpr, thresholds = roc_curve(y_test, y_pred)\n",
    "roc_auc = auc(fpr, tpr)\n",
    "\n",
    "plt.figure()\n",
    "plt.plot(fpr, tpr, color='darkorange', lw=2, label='ROC curve (area = %0.2f)' % roc_auc)\n",
    "plt.plot([0, 1], [0, 1], color='navy', lw=2, linestyle='--')\n",
    "plt.xlabel('False Positive Rate')\n",
    "plt.ylabel('True Positive Rate')\n",
    "plt.title('Receiver Operating Characteristic')\n",
    "plt.legend(loc=\"lower right\")\n",
    "plt.show()\n"
   ]
  },
  {
   "cell_type": "markdown",
   "id": "d293aa2c",
   "metadata": {},
   "source": [
    "### Precision Recall Curve"
   ]
  },
  {
   "cell_type": "code",
   "execution_count": 61,
   "id": "1a236168",
   "metadata": {},
   "outputs": [
    {
     "data": {
      "image/png": "[encoded data removed]",
      "text/plain": [
       "<Figure size 640x480 with 1 Axes>"
      ]
     },
     "metadata": {},
     "output_type": "display_data"
    }
   ],
   "source": [
    "from sklearn.metrics import precision_recall_curve\n",
    "from sklearn.metrics import average_precision_score\n",
    "\n",
    "precision, recall, _ = precision_recall_curve(y_test, y_pred)\n",
    "average_precision = average_precision_score(y_test, y_pred)\n",
    "\n",
    "plt.step(recall, precision, where='post')\n",
    "plt.xlabel('Recall')\n",
    "plt.ylabel('Precision')\n",
    "plt.ylim([0.0, 1.05])\n",
    "plt.xlim([0.0, 1.0])\n",
    "plt.title(f'2-class Precision-Recall curve: AP={average_precision:.2f}')\n",
    "plt.show()\n"
   ]
  },
  {
   "cell_type": "code",
   "execution_count": null,
   "id": "1c8f43c7",
   "metadata": {},
   "outputs": [],
   "source": []
  }
 ],
 "metadata": {
  "kernelspec": {
   "display_name": "Python 3 (ipykernel)",
   "language": "python",
   "name": "python3"
  },
  "language_info": {
   "codemirror_mode": {
    "name": "ipython",
    "version": 3
   },
   "file_extension": ".py",
   "mimetype": "text/x-python",
   "name": "python",
   "nbconvert_exporter": "python",
   "pygments_lexer": "ipython3",
   "version": "3.8.8"
  }
 },
 "nbformat": 4,
 "nbformat_minor": 5
}
